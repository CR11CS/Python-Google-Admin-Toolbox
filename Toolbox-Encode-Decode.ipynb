{
 "cells": [
  {
   "cell_type": "code",
   "execution_count": 1,
   "id": "ca7ceaf6-e7e2-48ea-ab34-c4c6f3f87c8b",
   "metadata": {},
   "outputs": [],
   "source": [
    "# Recreated from Google Admin Toolbox https://toolbox.googleapps.com/apps/encode_decode/  *minus SAML features\n",
    "# Added ability to skip encoding and convert input to hex or binary directly\n",
    "# Intended for render via JupyterLab's built-in Viola\n",
    "# Created by M-A-P-E https://github.com/M-A-P-E"
   ]
  },
  {
   "cell_type": "code",
   "execution_count": 2,
   "id": "8696f9da-7dc7-420b-b378-63cfa88be352",
   "metadata": {},
   "outputs": [],
   "source": [
    "import ipywidgets as widgets\n",
    "import base64\n",
    "import urllib\n",
    "import hashlib\n",
    "import json\n",
    "import quopri\n",
    "import codecs"
   ]
  },
  {
   "cell_type": "code",
   "execution_count": 3,
   "id": "5512029c-8503-44ed-9d90-74396e024079",
   "metadata": {},
   "outputs": [],
   "source": [
    "# Base64 Encode / Decode\n",
    "\n",
    "def base64_encode(text):\n",
    "    return str(base64.b64encode(text.encode('ascii')), 'utf-8')\n",
    "\n",
    "def base64_decode(text):\n",
    "    return str(base64.b64decode(text), 'utf-8')"
   ]
  },
  {
   "cell_type": "code",
   "execution_count": 4,
   "id": "2e011ed5-5ff0-4e5f-83a3-5fe96d91f19e",
   "metadata": {},
   "outputs": [],
   "source": [
    "# Base64Url Encode / Decode\n",
    "\n",
    "def base64url_encode(text):\n",
    "    text = text.encode('utf-8')\n",
    "    return base64.urlsafe_b64encode(text).rstrip(b'=')\n",
    "\n",
    "def base64url_decode(text):\n",
    "    padding = b'=' * (4 - (len(text) % 4))\n",
    "    return base64.urlsafe_b64decode(text.encode('utf-8') + padding)\n"
   ]
  },
  {
   "cell_type": "code",
   "execution_count": 5,
   "id": "3511b4e9-db60-44d6-b0d0-e5a556fe10f6",
   "metadata": {},
   "outputs": [],
   "source": [
    "# URL Encode / Decode\n",
    "\n",
    "def url_encode(text):\n",
    "    return urllib.parse.quote(text)\n",
    "\n",
    "def url_decode(text):\n",
    "    return urllib.parse.unquote(text)"
   ]
  },
  {
   "cell_type": "code",
   "execution_count": 6,
   "id": "790af3f3-b548-4534-ae90-9a108169b937",
   "metadata": {},
   "outputs": [],
   "source": [
    "# MD5 Hash\n",
    "\n",
    "def md5(text):\n",
    "    return hashlib.md5(text.encode('utf-8')).hexdigest()"
   ]
  },
  {
   "cell_type": "code",
   "execution_count": 7,
   "id": "9c59ea70-c062-4bbd-a1be-2d16dde6b41e",
   "metadata": {},
   "outputs": [],
   "source": [
    "# Pretty JSON\n",
    "\n",
    "def pretty_json(text):\n",
    "    parsed = json.loads(text)\n",
    "    return json.dumps(parsed, indent=4, sort_keys=True)"
   ]
  },
  {
   "cell_type": "code",
   "execution_count": 8,
   "id": "ad0ce3a0-2b09-4dd8-b627-13ec9e4a4224",
   "metadata": {},
   "outputs": [],
   "source": [
    "# Quoted-Printable Encode / Decode\n",
    "\n",
    "def quoted_printable_encode(text):\n",
    "    return quopri.encodestring(text.encode('utf-8'))\n",
    "\n",
    "def quoted_printable_decode(text):\n",
    "    return quopri.decodestring(text)"
   ]
  },
  {
   "cell_type": "code",
   "execution_count": 9,
   "id": "2fddd370-38fa-4b05-a0f3-662d025e5296",
   "metadata": {},
   "outputs": [],
   "source": [
    "# UTF-16 Decode\n",
    "\n",
    "def utf16_decode(text):\n",
    "    return codecs.decode(text, 'unicode-escape')"
   ]
  },
  {
   "cell_type": "code",
   "execution_count": 10,
   "id": "2a219abd-24ce-4ce7-a3aa-e9033b1409c9",
   "metadata": {},
   "outputs": [
    {
     "data": {
      "application/vnd.jupyter.widget-view+json": {
       "model_id": "db69dc70d84549c99f93e906096676ad",
       "version_major": 2,
       "version_minor": 0
      },
      "text/plain": [
       "GridspecLayout(children=(Textarea(value='', layout=Layout(grid_area='widget001', height='250px', width='auto')…"
      ]
     },
     "metadata": {},
     "output_type": "display_data"
    }
   ],
   "source": [
    "# Input and Output Textarea widgets\n",
    "input_textarea = widgets.Textarea(placeholder='Paste the text to encode/decode below', layout=widgets.Layout(width='auto', height='250px'))\n",
    "output_textarea = widgets.Textarea(layout=widgets.Layout(width='auto', height='250px'))\n",
    "\n",
    "# Encode / Decode RadioButtons widget\n",
    "options_radiobuttons = widgets.RadioButtons(options=['Convert Output', 'Base64 Encode', 'Base64 Decode', 'Base64Url Encode', 'Base64Url Decode', 'URL Encode', 'URL Decode', 'MD5 Hash', 'Pretty JSON', 'Quoted-Printable Encode', 'Quoted-Printable Decode', 'UTF16 Decode'])\n",
    "\n",
    "# Output Options Dropdown widget\n",
    "output_options_dropdown = widgets.Dropdown(options=['Plain Text', 'Hexadecimal Output', 'Binary Output'])\n",
    "\n",
    "# Submit Button widget\n",
    "submit_button = widgets.Button(description='SUBMIT', disabled=False, button_style='success')\n",
    "\n",
    "\n",
    "\n",
    "# Display widgets in a defined structure using Python wrapped CSS grid\n",
    "grid = widgets.GridspecLayout(3, 4)\n",
    "grid[0, 0:3] = input_textarea\n",
    "grid[1, 0:3] = output_textarea\n",
    "grid[0, 3] = options_radiobuttons\n",
    "grid[1, 3] = output_options_dropdown\n",
    "grid[2, 3] = submit_button\n",
    "\n",
    "grid"
   ]
  },
  {
   "cell_type": "code",
   "execution_count": 13,
   "id": "c25f48f5-9b60-4100-9207-ecf13b82782b",
   "metadata": {},
   "outputs": [],
   "source": [
    "# Submit Button onclick event\n",
    "\n",
    "def format_output(text):\n",
    "    if type(text) == bytes:\n",
    "        return str(text, 'utf-8')\n",
    "    elif type(text) == str:\n",
    "        return text\n",
    "\n",
    "def output_style(text):\n",
    "    if output_options_dropdown.value == 'Plain Text':\n",
    "        return text\n",
    "    if output_options_dropdown.value == 'Hexadecimal Output':\n",
    "        _ = bytes(text, 'utf-8')\n",
    "        return _.hex()\n",
    "    if output_options_dropdown.value == 'Binary Output':\n",
    "        return (' '.join([\"{0:b}\".format(x) for x in bytes(text, 'utf-8')]))\n",
    "\n",
    "def submit_button_onclick(_):\n",
    "    text = input_textarea.value\n",
    "    \n",
    "    if text == '':\n",
    "        output_textarea.value = 'Error: Please do not leave this blank.'\n",
    "    \n",
    "    try:\n",
    "        if options_radiobuttons.value == 'Convert Output':\n",
    "            output_textarea.value = output_style(text)\n",
    "        if options_radiobuttons.value == 'Base64 Encode':\n",
    "            output_textarea.value = output_style(format_output(base64_encode(text)))\n",
    "        if options_radiobuttons.value == 'Base64 Decode':\n",
    "            output_textarea.value = output_style(format_output(base64_decode(text)))\n",
    "        if options_radiobuttons.value == 'Base64Url Encode':\n",
    "            output_textarea.value = output_style(format_output(base64url_encode(text)))\n",
    "        if options_radiobuttons.value == 'Base64Url Decode':\n",
    "            output_textarea.value = output_style(format_output(base64url_decode(text)))\n",
    "        if options_radiobuttons.value == 'URL Encode':\n",
    "            output_textarea.value = output_style(format_output(url_encode(text)))\n",
    "        if options_radiobuttons.value == 'URL Decode':\n",
    "            output_textarea.value = output_style(format_output(url_decode(text)))\n",
    "        if options_radiobuttons.value == 'MD5 Hash':\n",
    "            output_textarea.value = output_style(format_output(md5(text)))\n",
    "        if options_radiobuttons.value == 'Quoted-Printable Encode':\n",
    "            output_textarea.value = output_style(format_output(quoted_printable_encode(text)))\n",
    "        if options_radiobuttons.value == 'Quoted-Printable Decode':\n",
    "            output_textarea.value = output_style(format_output(quoted_printable_decode(text)))\n",
    "    except Exception as error:\n",
    "        output_textarea.value = error\n",
    "        \n",
    "    if options_radiobuttons.value == 'Pretty JSON':\n",
    "        try:\n",
    "            output_textarea.value = output_style(format_output(pretty_json(text)))\n",
    "        except Exception:\n",
    "            output_textarea.value = 'Error: Not a valid JSON string.'\n",
    "        \n",
    "    if options_radiobuttons.value == 'UTF16 Decode':\n",
    "        try:\n",
    "            output_textarea.value = output_style(format_output(utf16_decode(text)))\n",
    "        except Exception:\n",
    "            output_textarea.value = 'Error: Unable to convert the UTF-16 escaped string. Make sure the format is like \"\\u30ab\\u30ec.....\"'\n",
    "\n",
    "submit_button.on_click(submit_button_onclick)"
   ]
  }
 ],
 "metadata": {
  "kernelspec": {
   "display_name": "Python 3 (ipykernel)",
   "language": "python",
   "name": "python3"
  },
  "language_info": {
   "codemirror_mode": {
    "name": "ipython",
    "version": 3
   },
   "file_extension": ".py",
   "mimetype": "text/x-python",
   "name": "python",
   "nbconvert_exporter": "python",
   "pygments_lexer": "ipython3",
   "version": "3.9.12"
  }
 },
 "nbformat": 4,
 "nbformat_minor": 5
}
